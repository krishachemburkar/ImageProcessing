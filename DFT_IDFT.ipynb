{
  "nbformat": 4,
  "nbformat_minor": 0,
  "metadata": {
    "colab": {
      "name": "SIP_I012_LAB2.ipynb",
      "provenance": []
    },
    "kernelspec": {
      "name": "python3",
      "display_name": "Python 3"
    },
    "language_info": {
      "name": "python"
    }
  },
  "cells": [
    {
      "cell_type": "markdown",
      "source": [
        "##***SIP LAB 2***\n",
        "\n",
        "Krisha Chemburkar\n",
        "\n",
        "I012\n",
        "\n",
        "B1 Batch\n",
        "\n",
        "Semester IV\n",
        "\n",
        "BTech AI"
      ],
      "metadata": {
        "id": "Kny8MOqGivv-"
      }
    },
    {
      "cell_type": "markdown",
      "source": [
        "### ***Aim:***\n",
        "\n",
        "a. Obtain twiddle factor matrix\n",
        "\n",
        "b. To find the DFT and IDFT of [1,2,2,1] using twiddle factor matrix.\n",
        "\n",
        "c. To compute the DFT using matrix method and FFT function.\n",
        "\n",
        "d. Observe and comment on execution time required for each of the above method."
      ],
      "metadata": {
        "id": "ki2BmeHMi8Yy"
      }
    },
    {
      "cell_type": "code",
      "execution_count": 3,
      "metadata": {
        "id": "nfYYbo8gYqKA"
      },
      "outputs": [],
      "source": [
        "import numpy as np"
      ]
    },
    {
      "cell_type": "markdown",
      "source": [
        "### ***Fast Fourier Transform and Inverse Fast Fourier Transform using direct functions***"
      ],
      "metadata": {
        "id": "jG9BAj7RlCx6"
      }
    },
    {
      "cell_type": "code",
      "source": [
        "x = np.array([1,2,2,1])"
      ],
      "metadata": {
        "id": "6MN7EGA2aams"
      },
      "execution_count": 4,
      "outputs": []
    },
    {
      "cell_type": "code",
      "source": [
        "#DFT using FFT function\n",
        "X = np.fft.fft(x)\n",
        "X"
      ],
      "metadata": {
        "colab": {
          "base_uri": "https://localhost:8080/"
        },
        "id": "gjdvFyiIadgU",
        "outputId": "2b29e278-a35e-4334-8660-8d3d7c652be3"
      },
      "execution_count": 5,
      "outputs": [
        {
          "output_type": "execute_result",
          "data": {
            "text/plain": [
              "array([ 6.+0.j, -1.-1.j,  0.+0.j, -1.+1.j])"
            ]
          },
          "metadata": {},
          "execution_count": 5
        }
      ]
    },
    {
      "cell_type": "code",
      "source": [
        "#IDFT using IFFT function\n",
        "x_est=np.fft.ifft(X)\n",
        "x_est"
      ],
      "metadata": {
        "colab": {
          "base_uri": "https://localhost:8080/"
        },
        "id": "zkRka6_uakPv",
        "outputId": "4b1cf602-2305-448d-ab90-8872c8083a60"
      },
      "execution_count": 8,
      "outputs": [
        {
          "output_type": "execute_result",
          "data": {
            "text/plain": [
              "array([1.+0.j, 2.+0.j, 2.+0.j, 1.+0.j])"
            ]
          },
          "metadata": {},
          "execution_count": 8
        }
      ]
    },
    {
      "cell_type": "markdown",
      "source": [
        "### ***Fast Fourier Transform and Inverse Fast Fourier Transform using Twiddle Factor Matrix method***"
      ],
      "metadata": {
        "id": "qvAlSQVBlQh8"
      }
    },
    {
      "cell_type": "code",
      "source": [
        "#twiddle matrix for forward transform\n",
        "N=4\n",
        "w=np.zeros((4,4), dtype=complex)\n",
        "for n in range(0,N):\n",
        "  for k in range(0,N): \n",
        "    r,c = int(np.cos(2*np.pi*n*k/N)), -1*int(np.sin(2*np.pi*n*k/N))\n",
        "    w[n][k]=complex(r,c)\n",
        "print(w)"
      ],
      "metadata": {
        "colab": {
          "base_uri": "https://localhost:8080/"
        },
        "id": "K7ZwwcBTa9Np",
        "outputId": "c0ad12e6-c975-41d6-81cc-a72ee331654a"
      },
      "execution_count": 6,
      "outputs": [
        {
          "output_type": "stream",
          "name": "stdout",
          "text": [
            "[[ 1.+0.j  1.+0.j  1.+0.j  1.+0.j]\n",
            " [ 1.+0.j  0.-1.j -1.+0.j  0.+1.j]\n",
            " [ 1.+0.j -1.+0.j  1.+0.j -1.+0.j]\n",
            " [ 1.+0.j  0.+1.j -1.+0.j  0.-1.j]]\n"
          ]
        }
      ]
    },
    {
      "cell_type": "code",
      "source": [
        "X1 = np.dot(w,np.transpose(x))\n",
        "X1"
      ],
      "metadata": {
        "colab": {
          "base_uri": "https://localhost:8080/"
        },
        "id": "3fuEf5ozcmEG",
        "outputId": "d1abcf50-90a8-4067-ac96-4f095b6f0bc2"
      },
      "execution_count": 7,
      "outputs": [
        {
          "output_type": "execute_result",
          "data": {
            "text/plain": [
              "array([ 6.+0.j, -1.-1.j,  0.+0.j, -1.+1.j])"
            ]
          },
          "metadata": {},
          "execution_count": 7
        }
      ]
    },
    {
      "cell_type": "code",
      "source": [
        "#twiddle factor matrix for inverse transform\n",
        "N=4\n",
        "w_inv=np.zeros((4,4), dtype=complex)\n",
        "for n in range(0,N):\n",
        "  for k in range(0,N): \n",
        "    r,c = int(np.cos(2*np.pi*n*k/N)), int(np.sin(2*np.pi*n*k/N))\n",
        "    w_inv[n][k]=complex(r,c)\n",
        "print(w_inv)"
      ],
      "metadata": {
        "colab": {
          "base_uri": "https://localhost:8080/"
        },
        "id": "f7mkdWYtfOXP",
        "outputId": "70bab643-d464-487e-e421-1f0df866e30c"
      },
      "execution_count": 9,
      "outputs": [
        {
          "output_type": "stream",
          "name": "stdout",
          "text": [
            "[[ 1.+0.j  1.+0.j  1.+0.j  1.+0.j]\n",
            " [ 1.+0.j  0.+1.j -1.+0.j  0.-1.j]\n",
            " [ 1.+0.j -1.+0.j  1.+0.j -1.+0.j]\n",
            " [ 1.+0.j  0.-1.j -1.+0.j  0.+1.j]]\n"
          ]
        }
      ]
    },
    {
      "cell_type": "code",
      "source": [
        "x1 = (np.dot(w_inv,np.transpose(X1))/N)\n",
        "x1"
      ],
      "metadata": {
        "colab": {
          "base_uri": "https://localhost:8080/"
        },
        "id": "ot8MnVGsgfDA",
        "outputId": "9a468c79-4486-4319-dbb2-0fe447f58e2e"
      },
      "execution_count": 10,
      "outputs": [
        {
          "output_type": "execute_result",
          "data": {
            "text/plain": [
              "array([1.+0.j, 2.+0.j, 2.+0.j, 1.+0.j])"
            ]
          },
          "metadata": {},
          "execution_count": 10
        }
      ]
    },
    {
      "cell_type": "markdown",
      "source": [
        "### ***Conclusion***\n",
        "In this experiment we find the fast fourier transform and the inverse fast fourier transform using the direct functions and calculating it manually using formula. The execution time for both were almost equal. We understood the methods to compute fast fourier transform. "
      ],
      "metadata": {
        "id": "Q2e2B-yJj2wr"
      }
    }
  ]
}